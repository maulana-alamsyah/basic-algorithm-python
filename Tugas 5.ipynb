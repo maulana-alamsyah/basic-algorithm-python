{
 "cells": [
  {
   "cell_type": "code",
   "execution_count": 1,
   "metadata": {},
   "outputs": [
    {
     "name": "stdout",
     "output_type": "stream",
     "text": [
      "I like programming\n",
      "Because I proud to make something new\n"
     ]
    }
   ],
   "source": [
    "#Creator => MAULANA ALAMSYAH\n",
    "#fungsi pertama\n",
    "def pertama():\n",
    "    print('Because I proud to make something new') #cetak string\n",
    "    \n",
    "#fungsi kedua\n",
    "def kedua():\n",
    "    print('I like programming') #cetak string\n",
    "    \n",
    "kedua() #memanggil fungsi kedua\n",
    "pertama() #memanggil fungsi pertama"
   ]
  },
  {
   "cell_type": "code",
   "execution_count": 2,
   "metadata": {},
   "outputs": [
    {
     "name": "stdout",
     "output_type": "stream",
     "text": [
      "Masukan nama Anda: maulana alamsyah\n",
      "Salam kenal maulana alamsyah\n",
      "Luasnya adalah  50\n",
      "Luasnya adalah  5000\n"
     ]
    }
   ],
   "source": [
    "#Creator => MAULANA ALAMSYAH\n",
    "#buat fungsi perkenalan\n",
    "def perkenalan():\n",
    "    nama = input('Masukan nama Anda: ') #meminta inputan user, dan disimpan pada variabel nama\n",
    "    print('Salam kenal', nama) #cetak salam kenal dengan variabel nama\n",
    "\n",
    "#buat fungsi luas dengan 2 parameter p dan l\n",
    "def luas(p, l):\n",
    "    L = p * l #proses hitung Luas\n",
    "    print('Luasnya adalah ', L) #cetak Luas\n",
    "\n",
    "#panggil fungsi perkenalan\n",
    "perkenalan()\n",
    "#panggil fungsi luas dengan p = 5 dan l =10\n",
    "luas(5, 10)\n",
    "#panggil fungsi luas dengan p = 100 dan l = 50\n",
    "luas(100, 50)\n",
    "   "
   ]
  },
  {
   "cell_type": "code",
   "execution_count": 3,
   "metadata": {},
   "outputs": [
    {
     "name": "stdout",
     "output_type": "stream",
     "text": [
      "Masukkan nilai panjang: 8\n",
      "Masukkan nilai lebar: 9\n",
      "Masukkan nilai tinggi: 10\n",
      "luasnya adalah  72\n",
      "volumenya adalah  720\n"
     ]
    }
   ],
   "source": [
    "#Creator => MAULANA ALAMSYAH\n",
    "\n",
    "#buat fungsi luas\n",
    "def luas():\n",
    "    L = p * l #proses hitung Luas\n",
    "    return L #mengembalikan nilai L\n",
    "\n",
    "#buat fungsi volume\n",
    "def volume():\n",
    "    V = luas() * t #proses hitung volume\n",
    "    return V #mengembalikan nilai V\n",
    "\n",
    "p = int(input('Masukkan nilai panjang: ')) #meminta inputan untuk variabel p\n",
    "l = int(input('Masukkan nilai lebar: ')) #meminta inputan untuk variabel l\n",
    "t = int(input('Masukkan nilai tinggi: ')) #meminta inputan untuk variabel t\n",
    "\n",
    "print('luasnya adalah ', luas()) #cetak luas\n",
    "print('volumenya adalah ', volume()) #cetak volume"
   ]
  },
  {
   "cell_type": "code",
   "execution_count": 4,
   "metadata": {},
   "outputs": [
    {
     "name": "stdout",
     "output_type": "stream",
     "text": [
      "Masukkan angka pertama: 5\n",
      "Masukkan angka kedua: 4\n",
      "Apakah a sama dengan b False\n",
      "Apakah a lebih besar dari b True\n"
     ]
    }
   ],
   "source": [
    "#Creator => MAULANA ALAMSYAH\n",
    "#meminta inputan dan ubah tipe data menjadi integer untuk variabel angka1\n",
    "angka1 = int(input(\"Masukkan angka pertama: \")) \n",
    "#meminta inputan dan ubah tipe data menjadi integer untuk variabel angka2\n",
    "angka2 = int(input(\"Masukkan angka kedua: \"))\n",
    "\n",
    "#buat fungsi samaDengan\n",
    "def samaDengan():\n",
    "    #proses apakah angka1 sama dengan angka2 dan hasilnya disimpan pada variabel sama\n",
    "    sama = angka1 == angka2\n",
    "    return sama #mengembalikan nilai dari variabel sama\n",
    "\n",
    "#buat fungsi lebihBesar\n",
    "def lebihBesar():\n",
    "    #proses apakah angka1 lebih besar dari angka2 dan hasilnya disimpan pada variabel lb\n",
    "    lb = angka1 > angka2\n",
    "    return lb #mengembalikan nilai dari variabel lb\n",
    "\n",
    "print(\"Apakah a sama dengan b\", samaDengan()) #cetak string dan panggil fungsi samaDengan\n",
    "print(\"Apakah a lebih besar dari b\", lebihBesar()) #cetak string dan panggil fungsi lebihBesar"
   ]
  },
  {
   "cell_type": "code",
   "execution_count": null,
   "metadata": {},
   "outputs": [],
   "source": []
  }
 ],
 "metadata": {
  "kernelspec": {
   "display_name": "Python 3",
   "language": "python",
   "name": "python3"
  },
  "language_info": {
   "codemirror_mode": {
    "name": "ipython",
    "version": 3
   },
   "file_extension": ".py",
   "mimetype": "text/x-python",
   "name": "python",
   "nbconvert_exporter": "python",
   "pygments_lexer": "ipython3",
   "version": "3.8.3"
  }
 },
 "nbformat": 4,
 "nbformat_minor": 4
}
