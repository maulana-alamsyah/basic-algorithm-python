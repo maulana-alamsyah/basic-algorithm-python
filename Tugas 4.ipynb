{
 "cells": [
  {
   "cell_type": "code",
   "execution_count": 1,
   "metadata": {},
   "outputs": [
    {
     "name": "stdout",
     "output_type": "stream",
     "text": [
      "Hasil dari 7 + 2 = 9\n",
      "Hasil dari 7 - 2 = 5\n",
      "Hasil dari 7 * 2 = 14\n",
      "Hasil dari 7 bagi 2 = 3.5\n",
      "Hasil dari 7 mod 2 = 1\n",
      "Hasil dari 7 pangkat 2 = 49\n"
     ]
    }
   ],
   "source": [
    "#operasi aritmatika\n",
    "\n",
    "a = 7\n",
    "b = 2\n",
    "\n",
    "tambah = a + b #operasi penjumlahan\n",
    "print('Hasil dari', a ,'+', b, '=', tambah)\n",
    "\n",
    "kurang = a - b #operasi pengurangan\n",
    "print('Hasil dari', a, '-', b, '=', kurang)\n",
    "\n",
    "kali = a * b #operasi perkalian\n",
    "print('Hasil dari', a, '*', b, '=', kali)\n",
    "\n",
    "bagi = a / b #operasi pembagian\n",
    "print('Hasil dari', a, 'bagi', b, '=', bagi)\n",
    "\n",
    "mod = a % b #operasi modulus (sisa bagi)\n",
    "print('Hasil dari', a, 'mod', b, '=', mod)\n",
    "\n",
    "pangkat = a ** b #operasi pemangkatan\n",
    "print('Hasil dari', a, 'pangkat', b, '=', pangkat)\n",
    "\n"
   ]
  },
  {
   "cell_type": "code",
   "execution_count": 2,
   "metadata": {},
   "outputs": [
    {
     "name": "stdout",
     "output_type": "stream",
     "text": [
      "7\n",
      "9\n",
      "5\n",
      "14\n",
      "3.5\n",
      "1\n",
      "49\n"
     ]
    }
   ],
   "source": [
    "#operasi penugasan\n",
    "\n",
    "x = 7 #operasi pengisian\n",
    "print(x)\n",
    "\n",
    "y =7\n",
    "y += 2 #operasi penjumlahan\n",
    "print(y)\n",
    "\n",
    "a = 7\n",
    "a -= 2 #operasi pengurangan\n",
    "print(a)\n",
    "\n",
    "b = 7\n",
    "b *= 2 #operasi perkalian\n",
    "print(b)\n",
    "\n",
    "c = 7\n",
    "c /= 2 #operasi pembagian\n",
    "print(c)\n",
    "\n",
    "d = 7\n",
    "d %= 2 #operasi sisa bagi\n",
    "print(d)\n",
    "\n",
    "e = 7\n",
    "e **= 2 #operasi pemangkatan\n",
    "print(e)\n"
   ]
  },
  {
   "cell_type": "code",
   "execution_count": 3,
   "metadata": {},
   "outputs": [
    {
     "name": "stdout",
     "output_type": "stream",
     "text": [
      "Apakah 20 lebih besar 40 : False\n",
      "Apakah 20 lebih kecil 40 : True\n",
      "Apakah 20 sama dengan 40 : False\n",
      "Apakah 20 tidak sama dengan 40 : True\n",
      "Apakah 20 lebih besar sama dengan 40 : False\n",
      "Apakah 20 lebih kecil sama dengan 40 : True\n"
     ]
    }
   ],
   "source": [
    "#operasi pembanding\n",
    "\n",
    "a = 20\n",
    "b = 40\n",
    "\n",
    "lebihBesar = a > b\n",
    "print('Apakah', a, 'lebih besar', b, ':', lebihBesar)\n",
    "\n",
    "lebihKecil = a < b\n",
    "print('Apakah', a, 'lebih kecil', b, ':', lebihKecil)\n",
    "\n",
    "samaDengan = a == b\n",
    "print('Apakah', a, 'sama dengan', b, ':', samaDengan)\n",
    "\n",
    "tidakSamaDengan = a != b\n",
    "print('Apakah', a, 'tidak sama dengan', b, ':', tidakSamaDengan)\n",
    "\n",
    "lebihBesarSamaDengan = a >= b\n",
    "print('Apakah', a, 'lebih besar sama dengan', b, ':', lebihBesarSamaDengan)\n",
    "\n",
    "lebihKecilSamaDengan = a <= b\n",
    "print('Apakah', a, 'lebih kecil sama dengan', b, ':', lebihKecilSamaDengan)"
   ]
  },
  {
   "cell_type": "code",
   "execution_count": 4,
   "metadata": {},
   "outputs": [
    {
     "name": "stdout",
     "output_type": "stream",
     "text": [
      "False\n",
      "True\n",
      "False\n"
     ]
    }
   ],
   "source": [
    "#operasi logika\n",
    "\n",
    "a = True\n",
    "b = False\n",
    "\n",
    "c = a and b\n",
    "print(c)\n",
    "\n",
    "d = a or b\n",
    "print(d)\n",
    "\n",
    "e = not a\n",
    "print(e)"
   ]
  },
  {
   "cell_type": "code",
   "execution_count": 5,
   "metadata": {},
   "outputs": [
    {
     "name": "stdout",
     "output_type": "stream",
     "text": [
      "Masukan nama bayi: lamsyah\n",
      "Masukkan berat badan bayi dalam Kg: 2\n",
      "Nama bayi adalah lamsyah\n",
      "Berat dalam Kg adalah 2 Kg\n",
      "Berat dalam Ons adalah 20 Ons\n",
      "Berat bayi 1 bulan ke depan harus ditambahkan 30 Ons sehingga menjadi 50 Ons\n"
     ]
    }
   ],
   "source": [
    "nama = input('Masukan nama bayi: ')\n",
    "berat = int(input('Masukkan berat badan bayi dalam Kg: '))\n",
    "ons = berat * 10\n",
    "bulanDepan = ons + 30\n",
    "\n",
    "print('Nama bayi adalah', nama)\n",
    "print('Berat dalam Kg adalah', berat, 'Kg')\n",
    "print('Berat dalam Ons adalah', ons, 'Ons')\n",
    "print('Berat bayi 1 bulan ke depan harus ditambahkan 30 Ons sehingga menjadi', bulanDepan, 'Ons')"
   ]
  },
  {
   "cell_type": "code",
   "execution_count": null,
   "metadata": {},
   "outputs": [],
   "source": []
  }
 ],
 "metadata": {
  "kernelspec": {
   "display_name": "Python 3",
   "language": "python",
   "name": "python3"
  },
  "language_info": {
   "codemirror_mode": {
    "name": "ipython",
    "version": 3
   },
   "file_extension": ".py",
   "mimetype": "text/x-python",
   "name": "python",
   "nbconvert_exporter": "python",
   "pygments_lexer": "ipython3",
   "version": "3.8.3"
  }
 },
 "nbformat": 4,
 "nbformat_minor": 4
}
