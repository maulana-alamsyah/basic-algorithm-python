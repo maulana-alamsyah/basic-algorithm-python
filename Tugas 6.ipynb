{
 "cells": [
  {
   "cell_type": "code",
   "execution_count": 1,
   "metadata": {},
   "outputs": [
    {
     "name": "stdout",
     "output_type": "stream",
     "text": [
      "Masukkan nilai: 50\n",
      "Remidi\n"
     ]
    }
   ],
   "source": [
    "#Creator => MAULANA ALAMSYAH\n",
    "nilai = int(input('Masukkan nilai: ')) #meminta inputan user, diubah tipe data menjadi integer dan disimpan divariabel nilai\n",
    "\n",
    "if nilai < 70: #kondisi apabila value dari nilai kurang dari 70\n",
    "    print('Remidi')\n",
    "else:\n",
    "    print('Tidak Remidi') #kondisi apabila nilai lebih dari 70"
   ]
  },
  {
   "cell_type": "code",
   "execution_count": 2,
   "metadata": {},
   "outputs": [
    {
     "name": "stdout",
     "output_type": "stream",
     "text": [
      "Masukkan jari jari: 20\n",
      "Luas lingkaran:  1256\n",
      "Lingkaran ini besar\n"
     ]
    }
   ],
   "source": [
    "#Creator => MAULANA ALAMSYAH\n",
    "r = int(input('Masukkan jari jari: ')) #meminta inputan user, ubah tipe data menjadi integer, simpan divariabel r\n",
    "\n",
    "L = 3.14 * r * r #proses hitung luas\n",
    "\n",
    "print('Luas lingkaran: ', int(L)) #cetak nilai L dengan tipe data integer\n",
    "\n",
    "if L > 314: #kondisi apabila L lebih besar dari 314\n",
    "    print('Lingkaran ini besar')\n",
    "else: #kondisi apabila L lebgih kecil dari 314\n",
    "    print('Lingkaran ini kecil')"
   ]
  },
  {
   "cell_type": "code",
   "execution_count": 3,
   "metadata": {},
   "outputs": [
    {
     "name": "stdout",
     "output_type": "stream",
     "text": [
      "Masukkan nomor: 2\n",
      "Masukkan nilai sisi: 10\n",
      "Volume kubus = 1000\n"
     ]
    }
   ],
   "source": [
    "#Creator => MAULANA ALAMSYAH\n",
    "#buat fungsi volume_balok\n",
    "def volume_balok():\n",
    "    p = int(input('Masukkan nilai panjang: ')) #meminta inputan dan simpan pada variabel p\n",
    "    l = int(input('Masukkan nilai lebar: ')) #meminta inputan dan simpan pada variabel l\n",
    "    t = int(input('Masukkan nilai tinggi: ')) #meminta inputan dan simpan pada variabel t\n",
    "    \n",
    "    #proses hitung v_balok\n",
    "    v_balok = p * l * t\n",
    "\n",
    "    #cetak volume balok\n",
    "    print('Volume balok =', v_balok)\n",
    "    \n",
    "#buat fungsi volume_kubus\n",
    "def volume_kubus():\n",
    "    s = int(input('Masukkan nilai sisi: ')) #meminta inputan dan simpan pada variabel s\n",
    "    \n",
    "    #proses hitung v_kubus\n",
    "    v_kubus = s * s * s\n",
    "    \n",
    "    #cetak volume kubus\n",
    "    print('Volume kubus =', v_kubus)\n",
    "\n",
    "#meminta inputan no untuk menentukan aksi\n",
    "no = int(input('Masukkan nomor: '))\n",
    "\n",
    "if no == 1: #kondisi apabila user memasukkan angka 1\n",
    "    volume_balok() #panggil fungsi volume_kubus\n",
    "elif no == 2: #kondisi apabila user memasukkan angka 2\n",
    "    volume_kubus() #panggil fungsi volume_balok\n",
    "else: #kondisi apabila user memasukkan selain angka 1 atau 2\n",
    "    print('Program tidak tersedia') #cetak program tidak tersedia\n",
    "    "
   ]
  },
  {
   "cell_type": "code",
   "execution_count": null,
   "metadata": {},
   "outputs": [],
   "source": []
  }
 ],
 "metadata": {
  "kernelspec": {
   "display_name": "Python 3",
   "language": "python",
   "name": "python3"
  },
  "language_info": {
   "codemirror_mode": {
    "name": "ipython",
    "version": 3
   },
   "file_extension": ".py",
   "mimetype": "text/x-python",
   "name": "python",
   "nbconvert_exporter": "python",
   "pygments_lexer": "ipython3",
   "version": "3.8.3"
  }
 },
 "nbformat": 4,
 "nbformat_minor": 4
}
