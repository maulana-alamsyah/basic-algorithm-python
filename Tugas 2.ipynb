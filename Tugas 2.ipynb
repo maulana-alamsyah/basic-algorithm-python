{
 "cells": [
  {
   "cell_type": "code",
   "execution_count": 1,
   "metadata": {},
   "outputs": [
    {
     "name": "stdout",
     "output_type": "stream",
     "text": [
      "Saya suka programming\n",
      "Saya suka programming\n",
      "Saya suka programming\n",
      "Saya suka programming\n",
      "Saya suka programming\n"
     ]
    }
   ],
   "source": [
    "#maulana alamsyah\n",
    "print(\"Saya suka programming\")\n",
    "print(\"Saya suka programming\")\n",
    "print(\"Saya suka programming\")\n",
    "print(\"Saya suka programming\")\n",
    "print(\"Saya suka programming\")"
   ]
  },
  {
   "cell_type": "code",
   "execution_count": 2,
   "metadata": {},
   "outputs": [
    {
     "name": "stdout",
     "output_type": "stream",
     "text": [
      "615.44\n"
     ]
    }
   ],
   "source": [
    "#maulana alamsyah\n",
    "r=14\n",
    "phi=3.14\n",
    "L=phi*r*r\n",
    "print(L)"
   ]
  },
  {
   "cell_type": "code",
   "execution_count": 3,
   "metadata": {},
   "outputs": [
    {
     "name": "stdout",
     "output_type": "stream",
     "text": [
      "Saya maulana alamsyah, saya membuat program menghitung balok\n",
      "panjang = 5\n",
      "lebar = 7\n",
      "tinggi = 10\n",
      "sehingga volume balok = 350\n"
     ]
    }
   ],
   "source": [
    "#maulana alamsyah\n",
    "#menghitung volume balok\n",
    "p=5\n",
    "l=7\n",
    "t=10\n",
    "V=p*l*t\n",
    "print(\"Saya maulana alamsyah, saya membuat program menghitung balok\")\n",
    "print(\"panjang =\", p)\n",
    "print(\"lebar =\", l)\n",
    "print(\"tinggi =\", t)\n",
    "print(\"sehingga volume balok =\", V)"
   ]
  },
  {
   "cell_type": "code",
   "execution_count": null,
   "metadata": {},
   "outputs": [],
   "source": []
  }
 ],
 "metadata": {
  "kernelspec": {
   "display_name": "Python 3",
   "language": "python",
   "name": "python3"
  },
  "language_info": {
   "codemirror_mode": {
    "name": "ipython",
    "version": 3
   },
   "file_extension": ".py",
   "mimetype": "text/x-python",
   "name": "python",
   "nbconvert_exporter": "python",
   "pygments_lexer": "ipython3",
   "version": "3.8.3"
  }
 },
 "nbformat": 4,
 "nbformat_minor": 4
}
